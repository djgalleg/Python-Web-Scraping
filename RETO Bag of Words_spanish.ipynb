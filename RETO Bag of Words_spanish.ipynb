{
 "cells": [
  {
   "cell_type": "markdown",
   "id": "2ffcdc86-76ef-453f-a162-7741c9c23b8c",
   "metadata": {},
   "source": [
    "# Analizador de texto en Python: Bag of Words\n",
    "\n",
    "* * * \n",
    "<div class=\"alert alert-success\">  \n",
    "    \n",
    "### Objetivos de Aprendizaje \n",
    "    \n",
    "* Aprender cómo convertir datos de texto en números mediante el enfoque de Bag-of-Words (Bolsa de Palabras).\n",
    "* Comprender el algoritmo TF-IDF y cómo complementa la representación Bag-of-Words.\n",
    "* Implementar Bag-of-Words y TF-IDF usando el paquete `sklearn` y entender la configuración de sus parámetros.\n",
    "* Usar las representaciones numéricas de los datos de texto para realizar análisis de sentimientos.\n",
    "</div>\n",
    "\n",
    "### Íconos Usados en Este Notebook\n",
    "🔔 **Pregunta**: Una pregunta rápida para ayudarte a entender lo que está ocurriendo.<br>\n",
    "🥊 **Desafío**: Ejercicio interactivo. ¡Trabajaremos en ellos durante el taller!<br>\n",
    "🎬 **Demostración**: Mostrando algo más avanzado – ¡para que sepas para qué puede usarse Python!<br> \n",
    "\n",
    "### Secciones\n",
    "1. [Análisis Exploratorio de Datos](#section1)\n",
    "2. [Preprocesamiento](#section2)\n",
    "3. [La Representación Bag-of-Words](#section3)\n",
    "4. [Frecuencia de Término - Frecuencia Inversa de Documento (TF-IDF)](#section4)\n",
    "5. [Clasificación de Sentimientos Usando la Representación TF-IDF](#section5)"
   ]
  },
  {
   "cell_type": "markdown",
   "id": "880e8a36-bd58-4c24-8593-03a0ea70deed",
   "metadata": {},
   "source": [
    "En la parte anterior, aprendimos cómo realizar el preprocesamiento de texto. Sin embargo, no fuimos más allá de los datos de texto en sí. Si estamos interesados en hacer algún análisis computacional sobre los datos de texto, todavía necesitamos enfoques para convertir ese texto en una **representación numérica**.\n",
    "\n",
    "En la Parte 2 de nuestra serie de talleres, exploraremos una de las formas más sencillas de generar una representación numérica a partir del texto: el enfoque de **bag-of-words** (Bolsa de Palabras o BoW). Implementaremos la representación BoW para transformar nuestros datos de tweets sobre aerolíneas, y luego construiremos un clasificador para explorar qué nos dice sobre el sentimiento de los tweets. En el corazón del enfoque bag-of-words se encuentra la suposición de que la frecuencia de ciertos tokens es informativa sobre la semántica y el sentimiento subyacente en el texto.\n",
    "\n",
    "Usaremos ampliamente el paquete `scikit-learn` para hacerlo, ya que proporciona un buen marco para construir la representación numérica.\n",
    "\n",
    "¡Primero instalemos `scikit-learn`!"
   ]
  },
  {
   "cell_type": "code",
   "execution_count": null,
   "id": "9e4a3a0d-66f4-44e5-8dd6-5f441146014d",
   "metadata": {
    "scrolled": true,
    "tags": []
   },
   "outputs": [
    {
     "name": "stdout",
     "output_type": "stream",
     "text": [
      "Requirement already satisfied: scikit-learn in /srv/conda/envs/notebook/lib/python3.10/site-packages (1.6.1)\n",
      "Requirement already satisfied: numpy>=1.19.5 in /srv/conda/envs/notebook/lib/python3.10/site-packages (from scikit-learn) (2.2.4)\n",
      "Requirement already satisfied: scipy>=1.6.0 in /srv/conda/envs/notebook/lib/python3.10/site-packages (from scikit-learn) (1.15.2)\n",
      "Requirement already satisfied: joblib>=1.2.0 in /srv/conda/envs/notebook/lib/python3.10/site-packages (from scikit-learn) (1.4.2)\n",
      "Requirement already satisfied: threadpoolctl>=3.1.0 in /srv/conda/envs/notebook/lib/python3.10/site-packages (from scikit-learn) (3.6.0)\n",
      "Note: you may need to restart the kernel to use updated packages.\n"
     ]
    }
   ],
   "source": [
    "# Decomenta e intalla el paquete\n",
    "%pip install scikit-learn"
   ]
  },
  {
   "cell_type": "code",
   "execution_count": null,
   "id": "21ed437f-9767-43b7-abc5-159aa4339a31",
   "metadata": {},
   "outputs": [
    {
     "name": "stdout",
     "output_type": "stream",
     "text": [
      "Requirement already satisfied: NLTK in /srv/conda/envs/notebook/lib/python3.10/site-packages (3.9.1)\n",
      "Requirement already satisfied: click in /srv/conda/envs/notebook/lib/python3.10/site-packages (from NLTK) (8.1.8)\n",
      "Requirement already satisfied: joblib in /srv/conda/envs/notebook/lib/python3.10/site-packages (from NLTK) (1.4.2)\n",
      "Requirement already satisfied: regex>=2021.8.3 in /srv/conda/envs/notebook/lib/python3.10/site-packages (from NLTK) (2024.11.6)\n",
      "Requirement already satisfied: tqdm in /srv/conda/envs/notebook/lib/python3.10/site-packages (from NLTK) (4.67.1)\n",
      "Note: you may need to restart the kernel to use updated packages.\n",
      "Requirement already satisfied: spaCy in /srv/conda/envs/notebook/lib/python3.10/site-packages (3.8.4)\n",
      "Requirement already satisfied: spacy-legacy<3.1.0,>=3.0.11 in /srv/conda/envs/notebook/lib/python3.10/site-packages (from spaCy) (3.0.12)\n",
      "Requirement already satisfied: spacy-loggers<2.0.0,>=1.0.0 in /srv/conda/envs/notebook/lib/python3.10/site-packages (from spaCy) (1.0.5)\n",
      "Requirement already satisfied: murmurhash<1.1.0,>=0.28.0 in /srv/conda/envs/notebook/lib/python3.10/site-packages (from spaCy) (1.0.12)\n",
      "Requirement already satisfied: cymem<2.1.0,>=2.0.2 in /srv/conda/envs/notebook/lib/python3.10/site-packages (from spaCy) (2.0.11)\n",
      "Requirement already satisfied: preshed<3.1.0,>=3.0.2 in /srv/conda/envs/notebook/lib/python3.10/site-packages (from spaCy) (3.0.9)\n",
      "Requirement already satisfied: thinc<8.4.0,>=8.3.4 in /srv/conda/envs/notebook/lib/python3.10/site-packages (from spaCy) (8.3.4)\n",
      "Requirement already satisfied: wasabi<1.2.0,>=0.9.1 in /srv/conda/envs/notebook/lib/python3.10/site-packages (from spaCy) (1.1.3)\n",
      "Requirement already satisfied: srsly<3.0.0,>=2.4.3 in /srv/conda/envs/notebook/lib/python3.10/site-packages (from spaCy) (2.5.1)\n",
      "Requirement already satisfied: catalogue<2.1.0,>=2.0.6 in /srv/conda/envs/notebook/lib/python3.10/site-packages (from spaCy) (2.0.10)\n",
      "Requirement already satisfied: weasel<0.5.0,>=0.1.0 in /srv/conda/envs/notebook/lib/python3.10/site-packages (from spaCy) (0.4.1)\n",
      "Requirement already satisfied: typer<1.0.0,>=0.3.0 in /srv/conda/envs/notebook/lib/python3.10/site-packages (from spaCy) (0.15.2)\n",
      "Requirement already satisfied: tqdm<5.0.0,>=4.38.0 in /srv/conda/envs/notebook/lib/python3.10/site-packages (from spaCy) (4.67.1)\n",
      "Requirement already satisfied: numpy>=1.19.0 in /srv/conda/envs/notebook/lib/python3.10/site-packages (from spaCy) (2.2.4)\n",
      "Requirement already satisfied: requests<3.0.0,>=2.13.0 in /srv/conda/envs/notebook/lib/python3.10/site-packages (from spaCy) (2.32.3)\n",
      "Requirement already satisfied: pydantic!=1.8,!=1.8.1,<3.0.0,>=1.7.4 in /srv/conda/envs/notebook/lib/python3.10/site-packages (from spaCy) (2.0.3)\n",
      "Requirement already satisfied: jinja2 in /srv/conda/envs/notebook/lib/python3.10/site-packages (from spaCy) (3.1.5)\n",
      "Requirement already satisfied: setuptools in /srv/conda/envs/notebook/lib/python3.10/site-packages (from spaCy) (75.8.0)\n",
      "Requirement already satisfied: packaging>=20.0 in /srv/conda/envs/notebook/lib/python3.10/site-packages (from spaCy) (24.2)\n",
      "Requirement already satisfied: langcodes<4.0.0,>=3.2.0 in /srv/conda/envs/notebook/lib/python3.10/site-packages (from spaCy) (3.5.0)\n",
      "Requirement already satisfied: language-data>=1.2 in /srv/conda/envs/notebook/lib/python3.10/site-packages (from langcodes<4.0.0,>=3.2.0->spaCy) (1.3.0)\n",
      "Requirement already satisfied: annotated-types>=0.4.0 in /srv/conda/envs/notebook/lib/python3.10/site-packages (from pydantic!=1.8,!=1.8.1,<3.0.0,>=1.7.4->spaCy) (0.7.0)\n",
      "Requirement already satisfied: pydantic-core==2.3.0 in /srv/conda/envs/notebook/lib/python3.10/site-packages (from pydantic!=1.8,!=1.8.1,<3.0.0,>=1.7.4->spaCy) (2.3.0)\n",
      "Requirement already satisfied: typing-extensions>=4.6.1 in /srv/conda/envs/notebook/lib/python3.10/site-packages (from pydantic!=1.8,!=1.8.1,<3.0.0,>=1.7.4->spaCy) (4.12.2)\n",
      "Requirement already satisfied: charset_normalizer<4,>=2 in /srv/conda/envs/notebook/lib/python3.10/site-packages (from requests<3.0.0,>=2.13.0->spaCy) (3.4.1)\n",
      "Requirement already satisfied: idna<4,>=2.5 in /srv/conda/envs/notebook/lib/python3.10/site-packages (from requests<3.0.0,>=2.13.0->spaCy) (3.10)\n",
      "Requirement already satisfied: urllib3<3,>=1.21.1 in /srv/conda/envs/notebook/lib/python3.10/site-packages (from requests<3.0.0,>=2.13.0->spaCy) (2.3.0)\n",
      "Requirement already satisfied: certifi>=2017.4.17 in /srv/conda/envs/notebook/lib/python3.10/site-packages (from requests<3.0.0,>=2.13.0->spaCy) (2024.12.14)\n",
      "Requirement already satisfied: blis<1.3.0,>=1.2.0 in /srv/conda/envs/notebook/lib/python3.10/site-packages (from thinc<8.4.0,>=8.3.4->spaCy) (1.2.0)\n",
      "Requirement already satisfied: confection<1.0.0,>=0.0.1 in /srv/conda/envs/notebook/lib/python3.10/site-packages (from thinc<8.4.0,>=8.3.4->spaCy) (0.1.5)\n",
      "Requirement already satisfied: click>=8.0.0 in /srv/conda/envs/notebook/lib/python3.10/site-packages (from typer<1.0.0,>=0.3.0->spaCy) (8.1.8)\n",
      "Requirement already satisfied: shellingham>=1.3.0 in /srv/conda/envs/notebook/lib/python3.10/site-packages (from typer<1.0.0,>=0.3.0->spaCy) (1.5.4)\n",
      "Requirement already satisfied: rich>=10.11.0 in /srv/conda/envs/notebook/lib/python3.10/site-packages (from typer<1.0.0,>=0.3.0->spaCy) (13.9.4)\n",
      "Requirement already satisfied: cloudpathlib<1.0.0,>=0.7.0 in /srv/conda/envs/notebook/lib/python3.10/site-packages (from weasel<0.5.0,>=0.1.0->spaCy) (0.21.0)\n",
      "Requirement already satisfied: smart-open<8.0.0,>=5.2.1 in /srv/conda/envs/notebook/lib/python3.10/site-packages (from weasel<0.5.0,>=0.1.0->spaCy) (7.1.0)\n",
      "Requirement already satisfied: MarkupSafe>=2.0 in /srv/conda/envs/notebook/lib/python3.10/site-packages (from jinja2->spaCy) (3.0.2)\n",
      "Requirement already satisfied: marisa-trie>=1.1.0 in /srv/conda/envs/notebook/lib/python3.10/site-packages (from language-data>=1.2->langcodes<4.0.0,>=3.2.0->spaCy) (1.2.1)\n",
      "Requirement already satisfied: markdown-it-py>=2.2.0 in /srv/conda/envs/notebook/lib/python3.10/site-packages (from rich>=10.11.0->typer<1.0.0,>=0.3.0->spaCy) (3.0.0)\n",
      "Requirement already satisfied: pygments<3.0.0,>=2.13.0 in /srv/conda/envs/notebook/lib/python3.10/site-packages (from rich>=10.11.0->typer<1.0.0,>=0.3.0->spaCy) (2.19.1)\n",
      "Requirement already satisfied: wrapt in /srv/conda/envs/notebook/lib/python3.10/site-packages (from smart-open<8.0.0,>=5.2.1->weasel<0.5.0,>=0.1.0->spaCy) (1.17.2)\n",
      "Requirement already satisfied: mdurl~=0.1 in /srv/conda/envs/notebook/lib/python3.10/site-packages (from markdown-it-py>=2.2.0->rich>=10.11.0->typer<1.0.0,>=0.3.0->spaCy) (0.1.2)\n",
      "Note: you may need to restart the kernel to use updated packages.\n",
      "Collecting en-core-web-sm==3.8.0\n",
      "  Downloading https://github.com/explosion/spacy-models/releases/download/en_core_web_sm-3.8.0/en_core_web_sm-3.8.0-py3-none-any.whl (12.8 MB)\n",
      "\u001b[2K     \u001b[90m━━━━━━━━━━━━━━━━━━━━━━━━━━━━━━━━━━━━━━━━\u001b[0m \u001b[32m12.8/12.8 MB\u001b[0m \u001b[31m57.2 MB/s\u001b[0m eta \u001b[36m0:00:00\u001b[0m00:01\u001b[0m\n",
      "\u001b[38;5;2m✔ Download and installation successful\u001b[0m\n",
      "You can now load the package via spacy.load('en_core_web_sm')\n",
      "Collecting pandas\n",
      "  Downloading pandas-2.2.3-cp310-cp310-manylinux_2_17_x86_64.manylinux2014_x86_64.whl.metadata (89 kB)\n",
      "Requirement already satisfied: numpy in /srv/conda/envs/notebook/lib/python3.10/site-packages (2.2.4)\n",
      "Collecting matplotlib\n",
      "  Downloading matplotlib-3.10.1-cp310-cp310-manylinux_2_17_x86_64.manylinux2014_x86_64.whl.metadata (11 kB)\n",
      "Collecting seaborn\n",
      "  Downloading seaborn-0.13.2-py3-none-any.whl.metadata (5.4 kB)\n",
      "Requirement already satisfied: python-dateutil>=2.8.2 in /srv/conda/envs/notebook/lib/python3.10/site-packages (from pandas) (2.9.0.post0)\n",
      "Requirement already satisfied: pytz>=2020.1 in /srv/conda/envs/notebook/lib/python3.10/site-packages (from pandas) (2025.1)\n",
      "Collecting tzdata>=2022.7 (from pandas)\n",
      "  Downloading tzdata-2025.2-py2.py3-none-any.whl.metadata (1.4 kB)\n",
      "Collecting contourpy>=1.0.1 (from matplotlib)\n",
      "  Downloading contourpy-1.3.1-cp310-cp310-manylinux_2_17_x86_64.manylinux2014_x86_64.whl.metadata (5.4 kB)\n",
      "Collecting cycler>=0.10 (from matplotlib)\n",
      "  Downloading cycler-0.12.1-py3-none-any.whl.metadata (3.8 kB)\n",
      "Collecting fonttools>=4.22.0 (from matplotlib)\n",
      "  Downloading fonttools-4.56.0-cp310-cp310-manylinux_2_17_x86_64.manylinux2014_x86_64.whl.metadata (101 kB)\n",
      "Collecting kiwisolver>=1.3.1 (from matplotlib)\n",
      "  Downloading kiwisolver-1.4.8-cp310-cp310-manylinux_2_12_x86_64.manylinux2010_x86_64.whl.metadata (6.2 kB)\n",
      "Requirement already satisfied: packaging>=20.0 in /srv/conda/envs/notebook/lib/python3.10/site-packages (from matplotlib) (24.2)\n",
      "Collecting pillow>=8 (from matplotlib)\n",
      "  Downloading pillow-11.1.0-cp310-cp310-manylinux_2_28_x86_64.whl.metadata (9.1 kB)\n",
      "Collecting pyparsing>=2.3.1 (from matplotlib)\n",
      "  Downloading pyparsing-3.2.1-py3-none-any.whl.metadata (5.0 kB)\n",
      "Requirement already satisfied: six>=1.5 in /srv/conda/envs/notebook/lib/python3.10/site-packages (from python-dateutil>=2.8.2->pandas) (1.17.0)\n",
      "Downloading pandas-2.2.3-cp310-cp310-manylinux_2_17_x86_64.manylinux2014_x86_64.whl (13.1 MB)\n",
      "\u001b[2K   \u001b[90m━━━━━━━━━━━━━━━━━━━━━━━━━━━━━━━━━━━━━━━━\u001b[0m \u001b[32m13.1/13.1 MB\u001b[0m \u001b[31m63.5 MB/s\u001b[0m eta \u001b[36m0:00:00\u001b[0m00:01\u001b[0m\n",
      "Downloading matplotlib-3.10.1-cp310-cp310-manylinux_2_17_x86_64.manylinux2014_x86_64.whl (8.6 MB)\n",
      "\u001b[2K   \u001b[90m━━━━━━━━━━━━━━━━━━━━━━━━━━━━━━━━━━━━━━━━\u001b[0m \u001b[32m8.6/8.6 MB\u001b[0m \u001b[31m130.6 MB/s\u001b[0m eta \u001b[36m0:00:00\u001b[0m\n",
      "\u001b[?25hDownloading seaborn-0.13.2-py3-none-any.whl (294 kB)\n",
      "Downloading contourpy-1.3.1-cp310-cp310-manylinux_2_17_x86_64.manylinux2014_x86_64.whl (324 kB)\n",
      "Downloading cycler-0.12.1-py3-none-any.whl (8.3 kB)\n",
      "Downloading fonttools-4.56.0-cp310-cp310-manylinux_2_17_x86_64.manylinux2014_x86_64.whl (4.6 MB)\n",
      "\u001b[2K   \u001b[90m━━━━━━━━━━━━━━━━━━━━━━━━━━━━━━━━━━━━━━━━\u001b[0m \u001b[32m4.6/4.6 MB\u001b[0m \u001b[31m104.2 MB/s\u001b[0m eta \u001b[36m0:00:00\u001b[0m\n",
      "\u001b[?25hDownloading kiwisolver-1.4.8-cp310-cp310-manylinux_2_12_x86_64.manylinux2010_x86_64.whl (1.6 MB)\n",
      "\u001b[2K   \u001b[90m━━━━━━━━━━━━━━━━━━━━━━━━━━━━━━━━━━━━━━━━\u001b[0m \u001b[32m1.6/1.6 MB\u001b[0m \u001b[31m84.1 MB/s\u001b[0m eta \u001b[36m0:00:00\u001b[0m\n",
      "Downloading pillow-11.1.0-cp310-cp310-manylinux_2_28_x86_64.whl (4.5 MB)\n",
      "\u001b[2K   \u001b[90m━━━━━━━━━━━━━━━━━━━━━━━━━━━━━━━━━━━━━━━━\u001b[0m \u001b[32m4.5/4.5 MB\u001b[0m \u001b[31m154.3 MB/s\u001b[0m eta \u001b[36m0:00:00\u001b[0m\n",
      "\u001b[?25hDownloading pyparsing-3.2.1-py3-none-any.whl (107 kB)\n",
      "Downloading tzdata-2025.2-py2.py3-none-any.whl (347 kB)\n",
      "Installing collected packages: tzdata, pyparsing, pillow, kiwisolver, fonttools, cycler, contourpy, pandas, matplotlib, seaborn\n",
      "Successfully installed contourpy-1.3.1 cycler-0.12.1 fonttools-4.56.0 kiwisolver-1.4.8 matplotlib-3.10.1 pandas-2.2.3 pillow-11.1.0 pyparsing-3.2.1 seaborn-0.13.2 tzdata-2025.2\n"
     ]
    }
   ],
   "source": [
    "# Descomenta e install el paquete NLP packages introducido en la parte 1\n",
    "%pip install NLTK\n",
    "%pip install spaCy\n",
    "!python -m spacy download en_core_web_sm\n",
    "!pip install pandas numpy matplotlib seaborn"
   ]
  },
  {
   "cell_type": "code",
   "execution_count": null,
   "id": "f3862ffd-918f-4184-8c90-8a39a8a2a069",
   "metadata": {},
   "outputs": [],
   "source": [
    "# Importa otros paquetes necesarios\n",
    "import re\n",
    "import numpy as np\n",
    "import pandas as pd\n",
    "import matplotlib.pyplot as plt\n",
    "import seaborn as sns\n",
    "from string import punctuation\n",
    "%matplotlib inline\n"
   ]
  },
  {
   "cell_type": "markdown",
   "id": "852ea4a5-7c28-4557-acdd-afe8a97b7235",
   "metadata": {},
   "source": [
    "<a id='section1'></a>\n",
    "\n",
    "# Análisis Exploratorio de Datos\n",
    "\n",
    "Antes de realizar cualquier tipo de preprocesamiento o modelado, siempre debemos llevar a cabo un análisis exploratorio de datos para familiarizarnos con la información.\n"
   ]
  },
  {
   "cell_type": "code",
   "execution_count": null,
   "id": "4190e351-97b7-4c5b-866e-07aa6cbd42c2",
   "metadata": {},
   "outputs": [],
   "source": [
    "# Leer los datos\n",
    "tweets_path = '../data/airline_tweets.csv'\n",
    "tweets = pd.read_csv(tweets_path, sep=',')"
   ]
  },
  {
   "cell_type": "code",
   "execution_count": 8,
   "id": "79acbaf2-6625-4abb-b50f-97ea54ba0d11",
   "metadata": {},
   "outputs": [
    {
     "data": {
      "text/html": [
       "<div>\n",
       "<style scoped>\n",
       "    .dataframe tbody tr th:only-of-type {\n",
       "        vertical-align: middle;\n",
       "    }\n",
       "\n",
       "    .dataframe tbody tr th {\n",
       "        vertical-align: top;\n",
       "    }\n",
       "\n",
       "    .dataframe thead th {\n",
       "        text-align: right;\n",
       "    }\n",
       "</style>\n",
       "<table border=\"1\" class=\"dataframe\">\n",
       "  <thead>\n",
       "    <tr style=\"text-align: right;\">\n",
       "      <th></th>\n",
       "      <th>tweet_id</th>\n",
       "      <th>airline_sentiment</th>\n",
       "      <th>airline_sentiment_confidence</th>\n",
       "      <th>negativereason</th>\n",
       "      <th>negativereason_confidence</th>\n",
       "      <th>airline</th>\n",
       "      <th>airline_sentiment_gold</th>\n",
       "      <th>name</th>\n",
       "      <th>negativereason_gold</th>\n",
       "      <th>retweet_count</th>\n",
       "      <th>text</th>\n",
       "      <th>tweet_coord</th>\n",
       "      <th>tweet_created</th>\n",
       "      <th>tweet_location</th>\n",
       "      <th>user_timezone</th>\n",
       "    </tr>\n",
       "  </thead>\n",
       "  <tbody>\n",
       "    <tr>\n",
       "      <th>0</th>\n",
       "      <td>570306133677760513</td>\n",
       "      <td>neutral</td>\n",
       "      <td>1.0000</td>\n",
       "      <td>NaN</td>\n",
       "      <td>NaN</td>\n",
       "      <td>Virgin America</td>\n",
       "      <td>NaN</td>\n",
       "      <td>cairdin</td>\n",
       "      <td>NaN</td>\n",
       "      <td>0</td>\n",
       "      <td>@VirginAmerica What @dhepburn said.</td>\n",
       "      <td>NaN</td>\n",
       "      <td>2015-02-24 11:35:52 -0800</td>\n",
       "      <td>NaN</td>\n",
       "      <td>Eastern Time (US &amp; Canada)</td>\n",
       "    </tr>\n",
       "    <tr>\n",
       "      <th>1</th>\n",
       "      <td>570301130888122368</td>\n",
       "      <td>positive</td>\n",
       "      <td>0.3486</td>\n",
       "      <td>NaN</td>\n",
       "      <td>0.0000</td>\n",
       "      <td>Virgin America</td>\n",
       "      <td>NaN</td>\n",
       "      <td>jnardino</td>\n",
       "      <td>NaN</td>\n",
       "      <td>0</td>\n",
       "      <td>@VirginAmerica plus you've added commercials t...</td>\n",
       "      <td>NaN</td>\n",
       "      <td>2015-02-24 11:15:59 -0800</td>\n",
       "      <td>NaN</td>\n",
       "      <td>Pacific Time (US &amp; Canada)</td>\n",
       "    </tr>\n",
       "    <tr>\n",
       "      <th>2</th>\n",
       "      <td>570301083672813571</td>\n",
       "      <td>neutral</td>\n",
       "      <td>0.6837</td>\n",
       "      <td>NaN</td>\n",
       "      <td>NaN</td>\n",
       "      <td>Virgin America</td>\n",
       "      <td>NaN</td>\n",
       "      <td>yvonnalynn</td>\n",
       "      <td>NaN</td>\n",
       "      <td>0</td>\n",
       "      <td>@VirginAmerica I didn't today... Must mean I n...</td>\n",
       "      <td>NaN</td>\n",
       "      <td>2015-02-24 11:15:48 -0800</td>\n",
       "      <td>Lets Play</td>\n",
       "      <td>Central Time (US &amp; Canada)</td>\n",
       "    </tr>\n",
       "    <tr>\n",
       "      <th>3</th>\n",
       "      <td>570301031407624196</td>\n",
       "      <td>negative</td>\n",
       "      <td>1.0000</td>\n",
       "      <td>Bad Flight</td>\n",
       "      <td>0.7033</td>\n",
       "      <td>Virgin America</td>\n",
       "      <td>NaN</td>\n",
       "      <td>jnardino</td>\n",
       "      <td>NaN</td>\n",
       "      <td>0</td>\n",
       "      <td>@VirginAmerica it's really aggressive to blast...</td>\n",
       "      <td>NaN</td>\n",
       "      <td>2015-02-24 11:15:36 -0800</td>\n",
       "      <td>NaN</td>\n",
       "      <td>Pacific Time (US &amp; Canada)</td>\n",
       "    </tr>\n",
       "    <tr>\n",
       "      <th>4</th>\n",
       "      <td>570300817074462722</td>\n",
       "      <td>negative</td>\n",
       "      <td>1.0000</td>\n",
       "      <td>Can't Tell</td>\n",
       "      <td>1.0000</td>\n",
       "      <td>Virgin America</td>\n",
       "      <td>NaN</td>\n",
       "      <td>jnardino</td>\n",
       "      <td>NaN</td>\n",
       "      <td>0</td>\n",
       "      <td>@VirginAmerica and it's a really big bad thing...</td>\n",
       "      <td>NaN</td>\n",
       "      <td>2015-02-24 11:14:45 -0800</td>\n",
       "      <td>NaN</td>\n",
       "      <td>Pacific Time (US &amp; Canada)</td>\n",
       "    </tr>\n",
       "  </tbody>\n",
       "</table>\n",
       "</div>"
      ],
      "text/plain": [
       "             tweet_id airline_sentiment  airline_sentiment_confidence  \\\n",
       "0  570306133677760513           neutral                        1.0000   \n",
       "1  570301130888122368          positive                        0.3486   \n",
       "2  570301083672813571           neutral                        0.6837   \n",
       "3  570301031407624196          negative                        1.0000   \n",
       "4  570300817074462722          negative                        1.0000   \n",
       "\n",
       "  negativereason  negativereason_confidence         airline  \\\n",
       "0            NaN                        NaN  Virgin America   \n",
       "1            NaN                     0.0000  Virgin America   \n",
       "2            NaN                        NaN  Virgin America   \n",
       "3     Bad Flight                     0.7033  Virgin America   \n",
       "4     Can't Tell                     1.0000  Virgin America   \n",
       "\n",
       "  airline_sentiment_gold        name negativereason_gold  retweet_count  \\\n",
       "0                    NaN     cairdin                 NaN              0   \n",
       "1                    NaN    jnardino                 NaN              0   \n",
       "2                    NaN  yvonnalynn                 NaN              0   \n",
       "3                    NaN    jnardino                 NaN              0   \n",
       "4                    NaN    jnardino                 NaN              0   \n",
       "\n",
       "                                                text tweet_coord  \\\n",
       "0                @VirginAmerica What @dhepburn said.         NaN   \n",
       "1  @VirginAmerica plus you've added commercials t...         NaN   \n",
       "2  @VirginAmerica I didn't today... Must mean I n...         NaN   \n",
       "3  @VirginAmerica it's really aggressive to blast...         NaN   \n",
       "4  @VirginAmerica and it's a really big bad thing...         NaN   \n",
       "\n",
       "               tweet_created tweet_location               user_timezone  \n",
       "0  2015-02-24 11:35:52 -0800            NaN  Eastern Time (US & Canada)  \n",
       "1  2015-02-24 11:15:59 -0800            NaN  Pacific Time (US & Canada)  \n",
       "2  2015-02-24 11:15:48 -0800      Lets Play  Central Time (US & Canada)  \n",
       "3  2015-02-24 11:15:36 -0800            NaN  Pacific Time (US & Canada)  \n",
       "4  2015-02-24 11:14:45 -0800            NaN  Pacific Time (US & Canada)  "
      ]
     },
     "execution_count": 8,
     "metadata": {},
     "output_type": "execute_result"
    }
   ],
   "source": [
    "tweets.head()"
   ]
  },
  {
   "cell_type": "markdown",
   "id": "80232c78-ac41-4d74-a581-76c9dac3b8f6",
   "metadata": {},
   "source": [
    "Como recordatorio, cada fila en este dataframe corresponde a un tweet. Las siguientes columnas son las que más nos interesan. Hay otras columnas que contienen metadatos del tweet, como el autor, la fecha de creación, la zona horaria del usuario, entre otros, que dejaremos de lado por ahora.\n",
    "\n",
    "- `text` (`str`): el texto del tweet.\n",
    "- `airline_sentiment` (`str`): el sentimiento del tweet, etiquetado como \"neutral\", \"positive\" o \"negative\".\n",
    "- `airline` (`str`): la aerolínea sobre la que se tuitea.\n",
    "- `retweet count` (`int`): cuántas veces fue retuiteado el tweet.\n",
    "\n",
    "Para prepararnos para la clasificación de sentimientos, vamos a dividir el conjunto de datos y enfocarnos por ahora en los tweets \"positivos\" y \"negativos\"."
   ]
  },
  {
   "cell_type": "code",
   "execution_count": 9,
   "id": "a1faaf90-8c01-4d25-9468-90c01823f0d5",
   "metadata": {},
   "outputs": [],
   "source": [
    "tweets = tweets[tweets['airline_sentiment'] != 'neutral'].reset_index(drop=True)"
   ]
  },
  {
   "cell_type": "markdown",
   "id": "7cb6b039-53e7-4afe-a9e0-b3522c12b2d7",
   "metadata": {},
   "source": [
    "Vamos a echar un vistazo a algunos tweets primero."
   ]
  },
  {
   "cell_type": "code",
   "execution_count": null,
   "id": "438830e6-1064-47fe-b578-a1ca693a0ed0",
   "metadata": {},
   "outputs": [
    {
     "name": "stdout",
     "output_type": "stream",
     "text": [
      "@VirginAmerica plus you've added commercials to the experience... tacky.\n",
      "@VirginAmerica it's really aggressive to blast obnoxious \"entertainment\" in your guests' faces &amp; they have little recourse\n",
      "@VirginAmerica and it's a really big bad thing about it\n",
      "@VirginAmerica seriously would pay $30 a flight for seats that didn't have this playing.\n",
      "it's really the only bad thing about flying VA\n",
      "@VirginAmerica yes, nearly every time I fly VX this “ear worm” won’t go away :)\n"
     ]
    }
   ],
   "source": [
    "# Imprimimos 5 tweets\n",
    "for idx in range(5):\n",
    "    print(tweets['text'].iloc[idx])"
   ]
  },
  {
   "cell_type": "markdown",
   "id": "0d6746f8-b29c-40d4-bef6-b4afd4cd6cc1",
   "metadata": {},
   "source": [
    "¡Ya podemos ver que algunos de estos tweets contienen sentimiento negativo! ¿Cómo podemos darnos cuenta de esto?\n",
    "\n",
    "A continuación, veamos la distribución de etiquetas de sentimiento en este conjunto de datos."
   ]
  },
  {
   "cell_type": "code",
   "execution_count": null,
   "id": "01955158-6954-447a-acb6-2989d02a49c3",
   "metadata": {},
   "outputs": [
    {
     "data": {
      "image/png": "[encoded data removed]",
      "text/plain": [
       "<Figure size 640x480 with 1 Axes>"
      ]
     },
     "metadata": {},
     "output_type": "display_data"
    }
   ],
   "source": [
    "# Hacemos un grafico de la cantidad de tweet de los sentimientos\n",
    "sns.countplot(data=tweets,\n",
    "              x='airline_sentiment', \n",
    "              color='green',\n",
    "              order=['positive', 'negative']);"
   ]
  },
  {
   "cell_type": "markdown",
   "id": "eab45abf-adf4-4f5e-ae09-75f6c4fd50d1",
   "metadata": {},
   "source": [
    "¡Parece que la mayoría de los tweets en este conjunto de datos expresan un sentimiento negativo!\n",
    "\n",
    "Veamos ahora qué tipo de tweets se retuitean más:"
   ]
  },
  {
   "cell_type": "code",
   "execution_count": null,
   "id": "428ddde7-af73-4eb6-92c9-041a1791ca59",
   "metadata": {},
   "outputs": [
    {
     "data": {
      "text/plain": [
       "airline_sentiment\n",
       "negative    0.093375\n",
       "positive    0.069403\n",
       "Name: retweet_count, dtype: float64"
      ]
     },
     "execution_count": 12,
     "metadata": {},
     "output_type": "execute_result"
    }
   ],
   "source": [
    "# Obtenemos el recuento promedio de retweet de cada sentimiento\n",
    "tweets.groupby('airline_sentiment')['retweet_count'].mean()"
   ]
  },
  {
   "cell_type": "markdown",
   "id": "0d31f3bc-257c-48a8-86a0-fd0d7c3e8cb3",
   "metadata": {},
   "source": [
    "Los tweets negativos son claramente mas que los positivos\n",
    "Vamos a ver que aerolina recive mas tweets negativos:"
   ]
  },
  {
   "cell_type": "code",
   "execution_count": null,
   "id": "12aa9f2d-d655-494a-bb72-08ad973518f3",
   "metadata": {},
   "outputs": [
    {
     "data": {
      "text/html": [
       "<div>\n",
       "<style scoped>\n",
       "    .dataframe tbody tr th:only-of-type {\n",
       "        vertical-align: middle;\n",
       "    }\n",
       "\n",
       "    .dataframe tbody tr th {\n",
       "        vertical-align: top;\n",
       "    }\n",
       "\n",
       "    .dataframe thead th {\n",
       "        text-align: right;\n",
       "    }\n",
       "</style>\n",
       "<table border=\"1\" class=\"dataframe\">\n",
       "  <thead>\n",
       "    <tr style=\"text-align: right;\">\n",
       "      <th>airline_sentiment</th>\n",
       "      <th>negative</th>\n",
       "      <th>positive</th>\n",
       "    </tr>\n",
       "    <tr>\n",
       "      <th>airline</th>\n",
       "      <th></th>\n",
       "      <th></th>\n",
       "    </tr>\n",
       "  </thead>\n",
       "  <tbody>\n",
       "    <tr>\n",
       "      <th>US Airways</th>\n",
       "      <td>0.893760</td>\n",
       "      <td>0.106240</td>\n",
       "    </tr>\n",
       "    <tr>\n",
       "      <th>American</th>\n",
       "      <td>0.853659</td>\n",
       "      <td>0.146341</td>\n",
       "    </tr>\n",
       "    <tr>\n",
       "      <th>United</th>\n",
       "      <td>0.842560</td>\n",
       "      <td>0.157440</td>\n",
       "    </tr>\n",
       "    <tr>\n",
       "      <th>Southwest</th>\n",
       "      <td>0.675399</td>\n",
       "      <td>0.324601</td>\n",
       "    </tr>\n",
       "    <tr>\n",
       "      <th>Delta</th>\n",
       "      <td>0.637091</td>\n",
       "      <td>0.362909</td>\n",
       "    </tr>\n",
       "    <tr>\n",
       "      <th>Virgin America</th>\n",
       "      <td>0.543544</td>\n",
       "      <td>0.456456</td>\n",
       "    </tr>\n",
       "  </tbody>\n",
       "</table>\n",
       "</div>"
      ],
      "text/plain": [
       "airline_sentiment  negative  positive\n",
       "airline                              \n",
       "US Airways         0.893760  0.106240\n",
       "American           0.853659  0.146341\n",
       "United             0.842560  0.157440\n",
       "Southwest          0.675399  0.324601\n",
       "Delta              0.637091  0.362909\n",
       "Virgin America     0.543544  0.456456"
      ]
     },
     "execution_count": 13,
     "metadata": {},
     "output_type": "execute_result"
    }
   ],
   "source": [
    "# Obtenemos la porcion de tweets negativos por aerolinea\n",
    "proportions = tweets.groupby(['airline', 'airline_sentiment']).size() / tweets.groupby('airline').size()\n",
    "proportions.unstack().sort_values('negative', ascending=False)"
   ]
  },
  {
   "cell_type": "markdown",
   "id": "7042419e-9c41-40e7-8dbf-47bd1e2ad45a",
   "metadata": {},
   "source": [
    "¡Parece que las personas están más insatisfechas con US Airways, seguida de American Airlines, ambas con más del 85% de tweets negativos!\n",
    "\n",
    "Se podrían hacer muchos descubrimientos interesantes si deseas explorar más sobre los datos. Ahora volvamos a nuestra tarea de análisis de sentimientos. Antes de eso, necesitamos preprocesar"
   ]
  },
  {
   "cell_type": "markdown",
   "id": "9e513930-2dc7-489c-bc5a-22eb09add5bf",
   "metadata": {},
   "source": [
    "<a id='section2'></a>\n",
    "# Preprocesamiento\n",
    "\n",
    "Pasamos gran parte de la Parte 1 aprendiendo cómo preprocesar datos. ¡Vamos a aplicar lo que aprendimos! Al observar algunos de los tweets anteriores, podemos ver que, aunque están en bastante buen estado, aún podemos realizar un procesamiento adicional sobre ellos.\n",
    "\n",
    "En nuestra canalización (pipeline), omitiremos el proceso de tokenización ya que lo realizaremos en un paso posterior."
   ]
  },
  {
   "cell_type": "markdown",
   "id": "92a83ece-f3b2-4200-9d22-0788fbc07fa4",
   "metadata": {},
   "source": [
    "## 🥊 Desafío 1: Aplicar una Canalización de Limpieza de Texto\n",
    "\n",
    "Escribe una función llamada `preprocess` que realice los siguientes pasos sobre un texto de entrada:\n",
    "\n",
    "* Paso 1: Convertir todo el texto a minúsculas.\n",
    "* Paso 2: Reemplazar los siguientes patrones por marcadores de posición:\n",
    "    * URLs &rarr; ` URL `\n",
    "    * Dígitos &rarr; ` DIGIT `\n",
    "    * Hashtags &rarr; ` HASHTAG `\n",
    "    * Menciones (handles) &rarr; ` USER `\n",
    "* Paso 3: Eliminar espacios en blanco extra.\n",
    "\n",
    "Aquí tienes algunas pistas para guiarte en este desafío:\n",
    "\n",
    "* Para el Paso 1, recuerda de la Parte 1 que existe un método de cadena llamado [`.lower()`](https://docs.python.org/3.11/library/stdtypes.html#str.lower) que puede usarse para convertir texto a minúsculas.\n",
    "* Hemos integrado el Paso 2 en una función llamada `placeholder`. Ejecuta la celda de abajo para importarla en tu notebook, y podrás usarla como cualquier otra función.\n",
    "* Para el Paso 3, te proporcionamos el patrón regex para identificar caracteres de espacio en blanco, así como el reemplazo correcto para eliminar espacios extra.\n",
    "\n",
    "Ejecuta tu función `preprocess` sobre `example_tweet` (tres celdas más abajo) para verificar si funciona. Si lo hace, aplícala a toda_"
   ]
  },
  {
   "cell_type": "code",
   "execution_count": 44,
   "id": "21738b02-9ab9-4a61-b41f-ff75888aa747",
   "metadata": {
    "tags": []
   },
   "outputs": [],
   "source": [
    "from utils import placeholder"
   ]
  },
  {
   "cell_type": "code",
   "execution_count": null,
   "id": "03569f0d-34ba-492d-aa1d-1dce9d34f792",
   "metadata": {},
   "outputs": [],
   "source": [
    "blankspace_pattern = r'\\s+'\n",
    "blankspace_repl = ' '\n",
    "\n",
    "def preprocess(text):\n",
    "    '''Crear una canalización de preprocesamiento que limpie los datos de los tweets.'''\n",
    "    \n",
    "    # Paso 1: Convertir a minúsculas\n",
    "    text = ...\n",
    "\n",
    "    # Paso 2: Reemplazar patrones con marcadores de posición\n",
    "    text = ...\n",
    "\n",
    "    # Paso 3: Eliminar caracteres de espacio en blanco extra\n",
    "    text = ...\n",
    "\n",
    "    return text"
   ]
  },
  {
   "cell_type": "code",
   "execution_count": null,
   "id": "8990cefd-5d04-46ba-ada2-29978c28cfe8",
   "metadata": {},
   "outputs": [
    {
     "name": "stdout",
     "output_type": "stream",
     "text": [
      "lol @justinbeiber and @BillGates are like soo 2000 #yesterday #amiright saw it on https://twitter.com #yolo\n",
      "==================================================\n",
      "Ellipsis\n"
     ]
    }
   ],
   "source": [
    "example_tweet = 'lol @justinbeiber and @BillGates are like soo 2000 #yesterday #amiright saw it on https://twitter.com #yolo'\n",
    "\n",
    "# Imprimir el ejemplo de tweet\n",
    "print(example_tweet)\n",
    "print(f\"{'='*50}\")\n",
    "\n",
    "# Imprimir el preproceso del tweet\n",
    "print(preprocess(example_tweet))"
   ]
  },
  {
   "cell_type": "code",
   "execution_count": null,
   "id": "a5f7bb6a-f064-48cc-b650-12c4ef2fbb88",
   "metadata": {
    "scrolled": true
   },
   "outputs": [
    {
     "data": {
      "text/plain": [
       "0    Ellipsis\n",
       "1    Ellipsis\n",
       "2    Ellipsis\n",
       "3    Ellipsis\n",
       "4    Ellipsis\n",
       "Name: text_processed, dtype: object"
      ]
     },
     "execution_count": 17,
     "metadata": {},
     "output_type": "execute_result"
    }
   ],
   "source": [
    "# Aplicar la función a la columna de texto y asignar los tweets preprocesados a una nueva columna\n",
    "tweets['text_processed'] = tweets['text'].apply(lambda x: preprocess(x))\n",
    "tweets['text_processed'].head()"
   ]
  },
  {
   "cell_type": "markdown",
   "id": "1576acc6-b305-492a-8fde-65b343cb779c",
   "metadata": {},
   "source": [
    "¡Felicidades! El preprocesamiento está completo. ¡Vamos a sumergirnos en el bag-of-words!"
   ]
  },
  {
   "cell_type": "markdown",
   "id": "53282330-54da-4e1c-bfe5-e77cb8fa3add",
   "metadata": {},
   "source": [
    "<a id='section3'></a>\n",
    "# La Representación Bag-of-Words\n",
    "\n",
    "La idea del enfoque bag-of-words (BoW), como sugiere el nombre, es bastante intuitiva: tomamos un documento y lo \"lanzamos\" a una bolsa. El acto de \"arrojar\" el documento a una bolsa ignora la posición relativa entre las palabras, por lo que lo que queda \"en la bolsa\" es esencialmente un \"conjunto desordenado de palabras\" [(Jurafsky & Martin, 2024)](https://web.stanford.edu/~jurafsky/slp3/ed3book.pdf). A cambio, obtenemos una lista de palabras únicas y la frecuencia de cada una de ellas.\n",
    "\n",
    "Por ejemplo, como se muestra en la siguiente ilustración, la palabra \"coffee\" aparece dos veces.\n",
    "\n",
    "<img src='../images/bow-illustration-1.png' alt=\"BoW-Part2\" width=\"600\">\n",
    "\n",
    "Con una representación bag-of-words, hacemos un uso intensivo de la frecuencia de las palabras, pero no tanto del orden en que aparecen.\n",
    "\n",
    "En el contexto del análisis de sentimientos, el sentimiento de un tweet se transmite con más fuerza a través de palabras específicas. Por ejemplo, si un tweet contiene la palabra \"happy\" (feliz), probablemente exprese un sentimiento positivo, aunque no siempre (por ejemplo, \"not happy\" denota el sentimiento opuesto). Cuando estas palabras aparecen con más frecuencia, probablemente transmitan con más fuerza el sentimiento."
   ]
  },
  {
   "cell_type": "markdown",
   "id": "b9d9bdbd-406d-469b-a8f6-41d1b3687c37",
   "metadata": {},
   "source": [
    "## Matriz Documento-Término\n",
    "\n",
    "Ahora implementemos la idea de bag-of-words. Antes de profundizar más, retrocedamos un momento. En la práctica, el análisis de texto a menudo implica manejar muchos documentos; a partir de ahora, usaremos el término **documento** para representar un fragmento de texto sobre el cual realizamos análisis. Puede ser una frase, una oración, un tweet u otro tipo de texto—mientras pueda representarse como una cadena de texto, la longitud no importa realmente.\n",
    "\n",
    "Imagina que tenemos cuatro documentos (es decir, las cuatro frases mostradas arriba), y los lanzamos todos a la bolsa. En lugar de obtener una lista de frecuencias de palabras, obtendremos como resultado una matriz documento-término (DTM, por sus siglas en inglés). En una DTM, la lista de palabras es el **vocabulario** (V), que contiene todas las palabras únicas que aparecen en los documentos. Para cada **documento** (D), contamos cuántas veces aparece cada palabra del vocabulario, y luego colocamos ese número en la matriz. En otras palabras, la DTM que construiremos es una matriz de tamaño $D \\times V$, donde cada fila corresponde a un documento, y cada columna corresponde a un token (o \"término\").\n",
    "\n",
    "Los tokens únicos en este conjunto de documentos, ordenados alfabéticamente, forman las columnas. Para cada documento, marcamos la aparición de cada palabra presente. La representación numérica de cada documento es una fila de la matriz. Por ejemplo, el primer documento, \"the coffee roaster\", tiene la representación numérica $[0, 1, 0, 0, 0, 1, 1, 0]$.\n",
    "\n",
    "Nota que la columna de índice a la izquierda muestra estos documentos como texto, pero normalmente simplemente asignaríamos un índice a cada uno.\n",
    "\n",
    "$$\n",
    "\\begin{array}{c|cccccccccccc}\n",
    " & \\text{americano} & \\text{coffee} & \\text{iced} & \\text{light} & \\text{roast} & \\text{roaster} & \\text{the} & \\text{time} \\\\\\hline\n",
    "\\text{the coffee roaster} &0 &1\t&0\t&0\t&0\t&1\t&1\t&0 \\\\ \n",
    "\\text{light roast} &0 &0\t&0\t&1\t&1\t&0\t&0\t&0 \\\\\n",
    "\\text{iced americano} &1 &0\t&1\t&0\t&0\t&0\t&0\t&0 \\\\\n",
    "\\text{coffee time} &0 &1\t&0\t&0\t&0\t&0\t&0\t&1 \\\\\n",
    "\\end{array}\n",
    "$$\n",
    "\n",
    "Para crear una DTM, utilizaremos `CountVectorizer` del paquete `sklearn`."
   ]
  },
  {
   "cell_type": "code",
   "execution_count": 18,
   "id": "cd2adf56-ba93-459d-8cfa-16ce8dc9284b",
   "metadata": {},
   "outputs": [],
   "source": [
    "from sklearn.feature_extraction.text import CountVectorizer"
   ]
  },
  {
   "cell_type": "markdown",
   "id": "4989781d-6b40-417a-be70-eeba05cd8a50",
   "metadata": {},
   "source": [
    "La siguiente ilustración muestra el flujo de trabajo en tres pasos para crear una DTM con `CountVectorizer`.\n",
    "\n",
    "<img src='../images/CountVectorizer1.png' alt=\"CountVectorizer\" width=\"500\">\n",
    "\n",
    "Vamos a recorrer estos pasos utilizando el ejemplo simple mostrado arriba.\n"
   ]
  },
  {
   "cell_type": "markdown",
   "id": "34174034-46b9-43e2-a511-5972d378cb00",
   "metadata": {},
   "source": [
    "### Un ejemplo de juego"
   ]
  },
  {
   "cell_type": "code",
   "execution_count": 19,
   "id": "4da2bd3d-0460-4b5f-9b9e-02940db0d7ca",
   "metadata": {},
   "outputs": [],
   "source": [
    "# A toy example containing four documents\n",
    "test = ['the coffee roaster',\n",
    "        'light roast',\n",
    "        'iced americano',\n",
    "        'coffee time']"
   ]
  },
  {
   "cell_type": "markdown",
   "id": "dff7c1d3-fcee-4e20-b9a7-17306ebd5fc2",
   "metadata": {},
   "source": [
    "El primer paso es inicializar un objeto `CountVectorizer`. Dentro de los paréntesis, podemos especificar configuraciones de parámetros si lo deseamos. Echemos un vistazo a la [documentación](https://scikit-learn.org/stable/modules/generated/sklearn.feature_extraction.text.CountVectorizer.html) para ver qué opciones están disponibles.\n",
    "\n",
    "Por ahora, podemos dejarlo en blanco para usar la configuración predeterminada."
   ]
  },
  {
   "cell_type": "code",
   "execution_count": 20,
   "id": "9de3fe6a-9abf-4e11-aad1-e54c891567bb",
   "metadata": {},
   "outputs": [],
   "source": [
    "# Create a CountVectorizer object\n",
    "vectorizer = CountVectorizer()"
   ]
  },
  {
   "cell_type": "markdown",
   "id": "1b5a7d0d-0bfc-4fb9-8e5f-e91e39797fb5",
   "metadata": {},
   "source": [
    "El segundo paso es aplicar el método `fit` al objeto `CountVectorizer` con los datos, lo que significa crear un vocabulario de tokens a partir del conjunto de documentos. En tercer lugar, usamos `transform` sobre nuestros datos usando el objeto `CountVectorizer` ya \"ajustado\", lo que implica tomar cada documento y contar las ocurrencias de los tokens según el vocabulario establecido durante el paso de \"ajuste\" (`fit`).\n",
    "\n",
    "Puede sonar un poco complejo, pero los pasos 2 y 3 se pueden realizar de una sola vez usando la función `fit_transform`."
   ]
  },
  {
   "cell_type": "code",
   "execution_count": 21,
   "id": "da1bbad4-bb1a-4b92-9096-6e17558b4a42",
   "metadata": {},
   "outputs": [],
   "source": [
    "# Fit and transform to create a DTM\n",
    "test_count = vectorizer.fit_transform(test)"
   ]
  },
  {
   "cell_type": "markdown",
   "id": "324d3b65-4e98-48bf-87d2-399457f4939c",
   "metadata": {},
   "source": [
    "El resultado de `fit_transform` debería ser la DTM (Matriz Documento-Término).\n",
    "\n",
    "¡Vamos a echarle un vistazo!"
   ]
  },
  {
   "cell_type": "code",
   "execution_count": 22,
   "id": "cb044001-8eb2-4489-b025-2d8e2d4bfee2",
   "metadata": {},
   "outputs": [
    {
     "data": {
      "text/plain": [
       "<Compressed Sparse Row sparse matrix of dtype 'int64'\n",
       "\twith 9 stored elements and shape (4, 8)>"
      ]
     },
     "execution_count": 22,
     "metadata": {},
     "output_type": "execute_result"
    }
   ],
   "source": [
    "test_count"
   ]
  },
  {
   "cell_type": "markdown",
   "id": "f9817b09-a806-42c4-9436-822cc27a38b9",
   "metadata": {},
   "source": [
    "Aparentemente, lo que obtuvimos es una \"matriz dispersa\" (sparse matrix), es decir, una matriz que contiene muchos ceros. Esto tiene sentido. Para cada documento, hay palabras que no aparecen en absoluto, y estas se contabilizan como ceros en la DTM. Esta matriz dispersa se almacena en un formato llamado \"Compressed Sparse Row\" (CSR), un formato optimizado para ahorrar memoria al manejar matrices dispersas.\n",
    "\n",
    "Vamos a convertirla en una matriz densa, donde probablemente esos ceros estén representados, como en un array de NumPy."
   ]
  },
  {
   "cell_type": "code",
   "execution_count": 23,
   "id": "bb03a238-87d8-40c9-b20e-66e7c9b6576b",
   "metadata": {},
   "outputs": [
    {
     "data": {
      "text/plain": [
       "matrix([[0, 1, 0, 0, 0, 1, 1, 0],\n",
       "        [0, 0, 0, 1, 1, 0, 0, 0],\n",
       "        [1, 0, 1, 0, 0, 0, 0, 0],\n",
       "        [0, 1, 0, 0, 0, 0, 0, 1]])"
      ]
     },
     "execution_count": 23,
     "metadata": {},
     "output_type": "execute_result"
    }
   ],
   "source": [
    "# Convert DTM to a dense matrix \n",
    "test_count.todense()"
   ]
  },
  {
   "cell_type": "markdown",
   "id": "28b58a63-d7f6-4b9f-aadf-4d4fc7341336",
   "metadata": {},
   "source": [
    "¡Así que esta es nuestra DTM! La matriz es la misma que mostramos anteriormente. Para que sea más fácil de leer, vamos a convertirla en un dataframe. Los nombres de las columnas deben ser los tokens del vocabulario, los cuales podemos obtener con la función `get_feature_names_out`."
   ]
  },
  {
   "cell_type": "code",
   "execution_count": 24,
   "id": "714de5d3-e37d-4a19-9ade-3c6629e38d4e",
   "metadata": {},
   "outputs": [
    {
     "data": {
      "text/plain": [
       "array(['americano', 'coffee', 'iced', 'light', 'roast', 'roaster', 'the',\n",
       "       'time'], dtype=object)"
      ]
     },
     "execution_count": 24,
     "metadata": {},
     "output_type": "execute_result"
    }
   ],
   "source": [
    "# Retrieve the vocabulary\n",
    "vectorizer.get_feature_names_out()"
   ]
  },
  {
   "cell_type": "code",
   "execution_count": 25,
   "id": "6a7729a2-ca2e-4de7-8795-74dfedb7a4d5",
   "metadata": {},
   "outputs": [],
   "source": [
    "# Create a DTM dataframe\n",
    "test_dtm = pd.DataFrame(data=test_count.todense(),\n",
    "                        columns=vectorizer.get_feature_names_out())"
   ]
  },
  {
   "cell_type": "markdown",
   "id": "781da407-f394-40f2-9d45-1fac39f02047",
   "metadata": {},
   "source": [
    "¡Aquí está! La DTM de nuestros datos de ejemplo ahora es un dataframe. El índice de `test_dtm` corresponde a la posición de cada documento en la lista `test`."
   ]
  },
  {
   "cell_type": "code",
   "execution_count": 26,
   "id": "e41dd243-cd2e-43c3-80f8-5eaab6e64210",
   "metadata": {},
   "outputs": [
    {
     "data": {
      "text/html": [
       "<div>\n",
       "<style scoped>\n",
       "    .dataframe tbody tr th:only-of-type {\n",
       "        vertical-align: middle;\n",
       "    }\n",
       "\n",
       "    .dataframe tbody tr th {\n",
       "        vertical-align: top;\n",
       "    }\n",
       "\n",
       "    .dataframe thead th {\n",
       "        text-align: right;\n",
       "    }\n",
       "</style>\n",
       "<table border=\"1\" class=\"dataframe\">\n",
       "  <thead>\n",
       "    <tr style=\"text-align: right;\">\n",
       "      <th></th>\n",
       "      <th>americano</th>\n",
       "      <th>coffee</th>\n",
       "      <th>iced</th>\n",
       "      <th>light</th>\n",
       "      <th>roast</th>\n",
       "      <th>roaster</th>\n",
       "      <th>the</th>\n",
       "      <th>time</th>\n",
       "    </tr>\n",
       "  </thead>\n",
       "  <tbody>\n",
       "    <tr>\n",
       "      <th>0</th>\n",
       "      <td>0</td>\n",
       "      <td>1</td>\n",
       "      <td>0</td>\n",
       "      <td>0</td>\n",
       "      <td>0</td>\n",
       "      <td>1</td>\n",
       "      <td>1</td>\n",
       "      <td>0</td>\n",
       "    </tr>\n",
       "    <tr>\n",
       "      <th>1</th>\n",
       "      <td>0</td>\n",
       "      <td>0</td>\n",
       "      <td>0</td>\n",
       "      <td>1</td>\n",
       "      <td>1</td>\n",
       "      <td>0</td>\n",
       "      <td>0</td>\n",
       "      <td>0</td>\n",
       "    </tr>\n",
       "    <tr>\n",
       "      <th>2</th>\n",
       "      <td>1</td>\n",
       "      <td>0</td>\n",
       "      <td>1</td>\n",
       "      <td>0</td>\n",
       "      <td>0</td>\n",
       "      <td>0</td>\n",
       "      <td>0</td>\n",
       "      <td>0</td>\n",
       "    </tr>\n",
       "    <tr>\n",
       "      <th>3</th>\n",
       "      <td>0</td>\n",
       "      <td>1</td>\n",
       "      <td>0</td>\n",
       "      <td>0</td>\n",
       "      <td>0</td>\n",
       "      <td>0</td>\n",
       "      <td>0</td>\n",
       "      <td>1</td>\n",
       "    </tr>\n",
       "  </tbody>\n",
       "</table>\n",
       "</div>"
      ],
      "text/plain": [
       "   americano  coffee  iced  light  roast  roaster  the  time\n",
       "0          0       1     0      0      0        1    1     0\n",
       "1          0       0     0      1      1        0    0     0\n",
       "2          1       0     1      0      0        0    0     0\n",
       "3          0       1     0      0      0        0    0     1"
      ]
     },
     "execution_count": 26,
     "metadata": {},
     "output_type": "execute_result"
    }
   ],
   "source": [
    "test_dtm"
   ]
  },
  {
   "cell_type": "markdown",
   "id": "d59a03b4-94fa-4fe7-8f5d-7280e31b9bc4",
   "metadata": {},
   "source": [
    "Esperamos que este ejemplo sencillo haya servido como una guía clara para crear una DTM.\n",
    "\n",
    "¡Ahora es momento de trabajar con nuestros datos de tweets!\n",
    "\n",
    "### DTM para Tweets\n",
    "\n",
    "Comenzaremos inicializando un objeto `CountVectorizer`. En la siguiente celda, hemos incluido algunos parámetros que la gente suele ajustar. Estos parámetros están actualmente configurados con sus valores predeterminados.\n",
    "\n",
    "Cuando construimos una DTM, el comportamiento por defecto es convertir el texto de entrada a minúsculas. Si no se proporciona nada en `stop_words`, el valor por defecto es conservarlas. Los siguientes tres parámetros se utilizan para controlar el tamaño del vocabulario, a los cuales volveremos en un momento.\n"
   ]
  },
  {
   "cell_type": "code",
   "execution_count": null,
   "id": "783e44a4-4a22-4290-b222-282b02c080dc",
   "metadata": {},
   "outputs": [
    {
     "name": "stdout",
     "output_type": "stream",
     "text": [
      "object\n",
      "0    Ellipsis\n",
      "1    Ellipsis\n",
      "2    Ellipsis\n",
      "3    Ellipsis\n",
      "4    Ellipsis\n",
      "Name: text_processed, dtype: object\n",
      "text_processed\n",
      "<class 'ellipsis'>    11541\n",
      "Name: count, dtype: int64\n"
     ]
    }
   ],
   "source": [
    "# Create a CountVectorizer object\n",
    "vectorizer = CountVectorizer(lowercase=True,\n",
    "                             stop_words=None,\n",
    "                             min_df=1,\n",
    "                             max_df=1.0, \n",
    "                             max_features=None)\n",
    "print(tweets['text_processed'].dtype)  # Tipo de datos de la columna\n",
    "print(tweets['text_processed'].head())  # Muestra las primeras filas\n",
    "print(tweets['text_processed'].apply(type).value_counts())  # Tipos de valores en la columna\n",
    "\n",
    "# prueba\n",
    "from utils import placeholder\n",
    " \n",
    "blankspace_pattern = r'\\s+'\n",
    "blankspace_repl = ' '\n",
    " \n",
    "def preprocess(text):\n",
    "    # Step 1: Minusculas\n",
    "    text = text.lower()\n",
    " \n",
    "    # Step 2: Renplazar patrones con marcadores de posición\n",
    "    text = placeholder(text)\n",
    " \n",
    "    # Step 3: Remover los caracteres con espacios extras\n",
    "    text = re.sub(blankspace_pattern, blankspace_repl, text).strip()\n",
    " \n",
    "    return text\n",
    " \n",
    "tweets['text_processed'] = tweets['text'].apply(preprocess)"
   ]
  },
  {
   "cell_type": "code",
   "execution_count": null,
   "id": "f85e76ea-bc54-4775-bcda-432a03d2c96f",
   "metadata": {
    "scrolled": true
   },
   "outputs": [
    {
     "data": {
      "text/plain": [
       "<Compressed Sparse Row sparse matrix of dtype 'int64'\n",
       "\twith 191139 stored elements and shape (11541, 8751)>"
      ]
     },
     "execution_count": 46,
     "metadata": {},
     "output_type": "execute_result"
    }
   ],
   "source": [
    "# Ajustar y transformar para crear la DTM\n",
    "counts = vectorizer.fit_transform(tweets['text_processed'].fillna(''))\n",
    "counts"
   ]
  },
  {
   "cell_type": "code",
   "execution_count": null,
   "id": "87119057-c78c-4eb2-a9d6-3e9f44e4c22b",
   "metadata": {},
   "outputs": [
    {
     "data": {
      "text/plain": [
       "array([[0, 0, 0, ..., 0, 0, 0],\n",
       "       [0, 0, 0, ..., 0, 0, 0],\n",
       "       [0, 0, 0, ..., 0, 0, 0],\n",
       "       ...,\n",
       "       [0, 0, 0, ..., 0, 0, 0],\n",
       "       [0, 0, 0, ..., 0, 0, 0],\n",
       "       [0, 0, 0, ..., 0, 0, 0]], shape=(11541, 8751))"
      ]
     },
     "execution_count": 47,
     "metadata": {},
     "output_type": "execute_result"
    }
   ],
   "source": [
    "# No ejecutes esto si tienes memoria limitada — esto incluye DataHub y Binder.\n",
    "np.array(counts.todense())"
   ]
  },
  {
   "cell_type": "code",
   "execution_count": null,
   "id": "99322b85-1a15-46a5-bb80-bb5eaa6eeb7b",
   "metadata": {},
   "outputs": [],
   "source": [
    "# Extraer tokens\n",
    "tokens = vectorizer.get_feature_names_out()"
   ]
  },
  {
   "cell_type": "code",
   "execution_count": null,
   "id": "43620587-3795-4434-8f1f-145c81b93706",
   "metadata": {},
   "outputs": [
    {
     "name": "stdout",
     "output_type": "stream",
     "text": [
      "(11541, 8751)\n"
     ]
    }
   ],
   "source": [
    "# Crear DTM\n",
    "first_dtm = pd.DataFrame(data=counts.todense(),\n",
    "                         index=tweets.index,\n",
    "                         columns=tokens)\n",
    "\n",
    "# Imprimir la forma (shape) de la DTM\n",
    "print(first_dtm.shape)"
   ]
  },
  {
   "cell_type": "markdown",
   "id": "2dd257d5-4244-436c-afe7-5688232caf8f",
   "metadata": {},
   "source": [
    "Si dejamos `CountVectorizer` con la configuración predeterminada, el tamaño del vocabulario en los datos de tweets es de 8751."
   ]
  },
  {
   "cell_type": "code",
   "execution_count": 50,
   "id": "bb3604ec-d909-4238-9a3f-67e7d4ae2ac5",
   "metadata": {},
   "outputs": [
    {
     "data": {
      "text/html": [
       "<div>\n",
       "<style scoped>\n",
       "    .dataframe tbody tr th:only-of-type {\n",
       "        vertical-align: middle;\n",
       "    }\n",
       "\n",
       "    .dataframe tbody tr th {\n",
       "        vertical-align: top;\n",
       "    }\n",
       "\n",
       "    .dataframe thead th {\n",
       "        text-align: right;\n",
       "    }\n",
       "</style>\n",
       "<table border=\"1\" class=\"dataframe\">\n",
       "  <thead>\n",
       "    <tr style=\"text-align: right;\">\n",
       "      <th></th>\n",
       "      <th>_exact_</th>\n",
       "      <th>_wtvd</th>\n",
       "      <th>aa</th>\n",
       "      <th>aaaand</th>\n",
       "      <th>aadv</th>\n",
       "      <th>aadvantage</th>\n",
       "      <th>aal</th>\n",
       "      <th>aaron</th>\n",
       "      <th>ab</th>\n",
       "      <th>aback</th>\n",
       "      <th>...</th>\n",
       "      <th>zero</th>\n",
       "      <th>zig</th>\n",
       "      <th>zip</th>\n",
       "      <th>zippers</th>\n",
       "      <th>zone</th>\n",
       "      <th>zones</th>\n",
       "      <th>zoom</th>\n",
       "      <th>zukes</th>\n",
       "      <th>zurich</th>\n",
       "      <th>zz</th>\n",
       "    </tr>\n",
       "  </thead>\n",
       "  <tbody>\n",
       "    <tr>\n",
       "      <th>0</th>\n",
       "      <td>0</td>\n",
       "      <td>0</td>\n",
       "      <td>0</td>\n",
       "      <td>0</td>\n",
       "      <td>0</td>\n",
       "      <td>0</td>\n",
       "      <td>0</td>\n",
       "      <td>0</td>\n",
       "      <td>0</td>\n",
       "      <td>0</td>\n",
       "      <td>...</td>\n",
       "      <td>0</td>\n",
       "      <td>0</td>\n",
       "      <td>0</td>\n",
       "      <td>0</td>\n",
       "      <td>0</td>\n",
       "      <td>0</td>\n",
       "      <td>0</td>\n",
       "      <td>0</td>\n",
       "      <td>0</td>\n",
       "      <td>0</td>\n",
       "    </tr>\n",
       "    <tr>\n",
       "      <th>1</th>\n",
       "      <td>0</td>\n",
       "      <td>0</td>\n",
       "      <td>0</td>\n",
       "      <td>0</td>\n",
       "      <td>0</td>\n",
       "      <td>0</td>\n",
       "      <td>0</td>\n",
       "      <td>0</td>\n",
       "      <td>0</td>\n",
       "      <td>0</td>\n",
       "      <td>...</td>\n",
       "      <td>0</td>\n",
       "      <td>0</td>\n",
       "      <td>0</td>\n",
       "      <td>0</td>\n",
       "      <td>0</td>\n",
       "      <td>0</td>\n",
       "      <td>0</td>\n",
       "      <td>0</td>\n",
       "      <td>0</td>\n",
       "      <td>0</td>\n",
       "    </tr>\n",
       "    <tr>\n",
       "      <th>2</th>\n",
       "      <td>0</td>\n",
       "      <td>0</td>\n",
       "      <td>0</td>\n",
       "      <td>0</td>\n",
       "      <td>0</td>\n",
       "      <td>0</td>\n",
       "      <td>0</td>\n",
       "      <td>0</td>\n",
       "      <td>0</td>\n",
       "      <td>0</td>\n",
       "      <td>...</td>\n",
       "      <td>0</td>\n",
       "      <td>0</td>\n",
       "      <td>0</td>\n",
       "      <td>0</td>\n",
       "      <td>0</td>\n",
       "      <td>0</td>\n",
       "      <td>0</td>\n",
       "      <td>0</td>\n",
       "      <td>0</td>\n",
       "      <td>0</td>\n",
       "    </tr>\n",
       "    <tr>\n",
       "      <th>3</th>\n",
       "      <td>0</td>\n",
       "      <td>0</td>\n",
       "      <td>0</td>\n",
       "      <td>0</td>\n",
       "      <td>0</td>\n",
       "      <td>0</td>\n",
       "      <td>0</td>\n",
       "      <td>0</td>\n",
       "      <td>0</td>\n",
       "      <td>0</td>\n",
       "      <td>...</td>\n",
       "      <td>0</td>\n",
       "      <td>0</td>\n",
       "      <td>0</td>\n",
       "      <td>0</td>\n",
       "      <td>0</td>\n",
       "      <td>0</td>\n",
       "      <td>0</td>\n",
       "      <td>0</td>\n",
       "      <td>0</td>\n",
       "      <td>0</td>\n",
       "    </tr>\n",
       "    <tr>\n",
       "      <th>4</th>\n",
       "      <td>0</td>\n",
       "      <td>0</td>\n",
       "      <td>0</td>\n",
       "      <td>0</td>\n",
       "      <td>0</td>\n",
       "      <td>0</td>\n",
       "      <td>0</td>\n",
       "      <td>0</td>\n",
       "      <td>0</td>\n",
       "      <td>0</td>\n",
       "      <td>...</td>\n",
       "      <td>0</td>\n",
       "      <td>0</td>\n",
       "      <td>0</td>\n",
       "      <td>0</td>\n",
       "      <td>0</td>\n",
       "      <td>0</td>\n",
       "      <td>0</td>\n",
       "      <td>0</td>\n",
       "      <td>0</td>\n",
       "      <td>0</td>\n",
       "    </tr>\n",
       "  </tbody>\n",
       "</table>\n",
       "<p>5 rows × 8751 columns</p>\n",
       "</div>"
      ],
      "text/plain": [
       "   _exact_  _wtvd  aa  aaaand  aadv  aadvantage  aal  aaron  ab  aback  ...  \\\n",
       "0        0      0   0       0     0           0    0      0   0      0  ...   \n",
       "1        0      0   0       0     0           0    0      0   0      0  ...   \n",
       "2        0      0   0       0     0           0    0      0   0      0  ...   \n",
       "3        0      0   0       0     0           0    0      0   0      0  ...   \n",
       "4        0      0   0       0     0           0    0      0   0      0  ...   \n",
       "\n",
       "   zero  zig  zip  zippers  zone  zones  zoom  zukes  zurich  zz  \n",
       "0     0    0    0        0     0      0     0      0       0   0  \n",
       "1     0    0    0        0     0      0     0      0       0   0  \n",
       "2     0    0    0        0     0      0     0      0       0   0  \n",
       "3     0    0    0        0     0      0     0      0       0   0  \n",
       "4     0    0    0        0     0      0     0      0       0   0  \n",
       "\n",
       "[5 rows x 8751 columns]"
      ]
     },
     "execution_count": 50,
     "metadata": {},
     "output_type": "execute_result"
    }
   ],
   "source": [
    "first_dtm.head()"
   ]
  },
  {
   "cell_type": "markdown",
   "id": "095d34e2-52f8-4419-b4c7-ed20dbd5df89",
   "metadata": {},
   "source": [
    "La mayoría de los tokens tienen cero apariciones al menos en los primeros cinco tweets.\n",
    "\n",
    "¡Echemos un vistazo más de cerca a la DTM!"
   ]
  },
  {
   "cell_type": "code",
   "execution_count": null,
   "id": "f432154a-eae0-4723-a797-55f3cfdd71c4",
   "metadata": {},
   "outputs": [
    {
     "data": {
      "text/plain": [
       "user      12882\n",
       "to         6987\n",
       "digit      6927\n",
       "the        5088\n",
       "you        3635\n",
       "for        3386\n",
       "flight     3320\n",
       "and        3276\n",
       "on         3142\n",
       "my         2751\n",
       "dtype: int64"
      ]
     },
     "execution_count": 51,
     "metadata": {},
     "output_type": "execute_result"
    }
   ],
   "source": [
    "# tokens mas frecuentes\n",
    "first_dtm.sum().sort_values(ascending=False).head(10)"
   ]
  },
  {
   "cell_type": "code",
   "execution_count": null,
   "id": "26c7f1c9-dd66-49f2-b337-01253da551d2",
   "metadata": {},
   "outputs": [
    {
     "data": {
      "text/plain": [
       "zones         1\n",
       "accelerate    1\n",
       "acc           1\n",
       "acarl         1\n",
       "yogurt        1\n",
       "yoga          1\n",
       "yikes         1\n",
       "absurdity     1\n",
       "absorber      1\n",
       "absorb        1\n",
       "dtype: int64"
      ]
     },
     "execution_count": 52,
     "metadata": {},
     "output_type": "execute_result"
    }
   ],
   "source": [
    "# Tokens menos frecuentes\n",
    "first_dtm.sum().sort_values(ascending=True).head(10)"
   ]
  },
  {
   "cell_type": "markdown",
   "id": "5d230f79-e752-4e32-93db-4f013287f8e2",
   "metadata": {},
   "source": [
    "No es sorprendente ver que \"user\" y \"digit\" estén entre los tokens más frecuentes, ya que reemplazamos cada uno de los elementos idiosincráticos con estos marcadores de posición. El resto de los tokens más frecuentes son en su mayoría palabras vacías (stop words).\n",
    "\n",
    "Quizás un patrón más interesante sea buscar qué token aparece más en un tweet determinado:"
   ]
  },
  {
   "cell_type": "code",
   "execution_count": null,
   "id": "efb8f4d8-4c88-4155-a6c5-c72a5b4e8bb8",
   "metadata": {},
   "outputs": [
    {
     "data": {
      "text/html": [
       "<div>\n",
       "<style scoped>\n",
       "    .dataframe tbody tr th:only-of-type {\n",
       "        vertical-align: middle;\n",
       "    }\n",
       "\n",
       "    .dataframe tbody tr th {\n",
       "        vertical-align: top;\n",
       "    }\n",
       "\n",
       "    .dataframe thead th {\n",
       "        text-align: right;\n",
       "    }\n",
       "</style>\n",
       "<table border=\"1\" class=\"dataframe\">\n",
       "  <thead>\n",
       "    <tr style=\"text-align: right;\">\n",
       "      <th></th>\n",
       "      <th>token</th>\n",
       "      <th>number</th>\n",
       "    </tr>\n",
       "  </thead>\n",
       "  <tbody>\n",
       "    <tr>\n",
       "      <th>3127</th>\n",
       "      <td>lt</td>\n",
       "      <td>6</td>\n",
       "    </tr>\n",
       "    <tr>\n",
       "      <th>918</th>\n",
       "      <td>worst</td>\n",
       "      <td>6</td>\n",
       "    </tr>\n",
       "    <tr>\n",
       "      <th>11007</th>\n",
       "      <td>to</td>\n",
       "      <td>5</td>\n",
       "    </tr>\n",
       "    <tr>\n",
       "      <th>5513</th>\n",
       "      <td>to</td>\n",
       "      <td>5</td>\n",
       "    </tr>\n",
       "    <tr>\n",
       "      <th>7750</th>\n",
       "      <td>to</td>\n",
       "      <td>5</td>\n",
       "    </tr>\n",
       "    <tr>\n",
       "      <th>10923</th>\n",
       "      <td>the</td>\n",
       "      <td>5</td>\n",
       "    </tr>\n",
       "    <tr>\n",
       "      <th>4089</th>\n",
       "      <td>to</td>\n",
       "      <td>5</td>\n",
       "    </tr>\n",
       "    <tr>\n",
       "      <th>8134</th>\n",
       "      <td>to</td>\n",
       "      <td>5</td>\n",
       "    </tr>\n",
       "    <tr>\n",
       "      <th>8148</th>\n",
       "      <td>the</td>\n",
       "      <td>5</td>\n",
       "    </tr>\n",
       "    <tr>\n",
       "      <th>557</th>\n",
       "      <td>to</td>\n",
       "      <td>5</td>\n",
       "    </tr>\n",
       "  </tbody>\n",
       "</table>\n",
       "</div>"
      ],
      "text/plain": [
       "       token  number\n",
       "3127      lt       6\n",
       "918    worst       6\n",
       "11007     to       5\n",
       "5513      to       5\n",
       "7750      to       5\n",
       "10923    the       5\n",
       "4089      to       5\n",
       "8134      to       5\n",
       "8148     the       5\n",
       "557       to       5"
      ]
     },
     "execution_count": 53,
     "metadata": {},
     "output_type": "execute_result"
    }
   ],
   "source": [
    "counts = pd.DataFrame()\n",
    "\n",
    "# Obtener el índice del tweet donde un token aparece con mayor frecuencia\n",
    "counts['token'] = first_dtm.idxmax(axis=1)\n",
    "\n",
    "# Obtener el número de ocurrencias\n",
    "counts['number'] = first_dtm.max(axis=1)\n",
    "\n",
    "# Filtrar los marcadores de posición\n",
    "counts[(counts['token'] != 'digit')\n",
    "       & (counts['token'] != 'hashtag')\n",
    "       & (counts['token'] != 'user')].sort_values('number', ascending=False).head(10)"
   ]
  },
  {
   "cell_type": "markdown",
   "id": "7cdac4ef-6b9d-4aad-9b24-c70f6c2eb8f0",
   "metadata": {},
   "source": [
    "Parece que, entre todos los tweets, como máximo un token aparece seis veces, y es o bien la palabra \"It\" o la palabra \"worst\".\n",
    "\n",
    "Volvamos a nuestro dataframe de tweets y localicemos el tweet número 918."
   ]
  },
  {
   "cell_type": "code",
   "execution_count": 54,
   "id": "5e7cacd8-1fb3-4f0d-a744-4ee0994a089f",
   "metadata": {},
   "outputs": [
    {
     "data": {
      "text/plain": [
       "\"@united is the worst. Worst reservation policies. Worst costumer service. Worst worst worst. Congrats, @Delta you're not that bad!\""
      ]
     },
     "execution_count": 54,
     "metadata": {},
     "output_type": "execute_result"
    }
   ],
   "source": [
    "# Retrieve 918th tweet: \"worst\"\n",
    "tweets.iloc[918]['text']"
   ]
  },
  {
   "cell_type": "markdown",
   "id": "3dba8e37-4880-4565-b6fc-7e7c96958f0f",
   "metadata": {},
   "source": [
    "## Personalizar el `CountVectorizer`\n",
    "\n",
    "Hasta ahora hemos utilizado siempre la configuración predeterminada para crear nuestras DTM, pero en muchos casos podríamos querer personalizar el objeto `CountVectorizer`. El propósito de hacerlo es filtrar aún más los tokens innecesarios. En el siguiente ejemplo, ajustamos los siguientes parámetros:\n",
    "\n",
    "- `stop_words = 'english'`: ignora las palabras vacías en inglés  \n",
    "- `min_df = 2`: ignora las palabras que no aparecen al menos dos veces  \n",
    "- `max_df = 0.95`: ignora las palabras que aparecen en más del 95% de los documentos  \n",
    "\n",
    "🔔 **Pregunta**: ¡Pausamos un momento para discutir si tiene sentido establecer estos parámetros! ¿Qué opinas?\n",
    "\n",
    "A menudo, no nos interesan las palabras cuya frecuencia es demasiado baja o demasiado alta, por eso usamos `min_df` y `max_df` para filtrarlas. Alternativamente, podemos definir el tamaño de nuestro vocabulario como $N$ usando `max_features`. En otras palabras, le indicamos a `CountVectorizer` que solo considere los $N$ tokens más frecuentes al construir la DTM."
   ]
  },
  {
   "cell_type": "code",
   "execution_count": 55,
   "id": "37a0a93e-9dd8-43dc-a82c-06a24bf02bc9",
   "metadata": {},
   "outputs": [],
   "source": [
    "# Customize the parameter setting\n",
    "vectorizer = CountVectorizer(lowercase=True,\n",
    "                             stop_words='english',\n",
    "                             min_df=2,\n",
    "                             max_df=0.95,\n",
    "                             max_features=None)"
   ]
  },
  {
   "cell_type": "code",
   "execution_count": 56,
   "id": "b53e5ecf-7be3-4915-9d11-fd3edb913400",
   "metadata": {},
   "outputs": [],
   "source": [
    "# Fit, transform, and get tokens\n",
    "counts = vectorizer.fit_transform(tweets['text_processed'])\n",
    "tokens = vectorizer.get_feature_names_out()\n",
    "\n",
    "# Create the second DTM\n",
    "second_dtm = pd.DataFrame(data=counts.todense(),\n",
    "                          index=tweets.index,\n",
    "                          columns=tokens)"
   ]
  },
  {
   "cell_type": "markdown",
   "id": "6d2e66bc-2eaa-4642-8848-74459948084b",
   "metadata": {},
   "source": [
    "Nuestra segunda DTM tiene un vocabulario sustancialmente más pequeño en comparación con la primera."
   ]
  },
  {
   "cell_type": "code",
   "execution_count": 57,
   "id": "570fb598-fa81-4111-9e36-7172d8034713",
   "metadata": {},
   "outputs": [
    {
     "name": "stdout",
     "output_type": "stream",
     "text": [
      "(11541, 8751)\n",
      "(11541, 4471)\n"
     ]
    }
   ],
   "source": [
    "print(first_dtm.shape)\n",
    "print(second_dtm.shape)"
   ]
  },
  {
   "cell_type": "code",
   "execution_count": 58,
   "id": "d8deabb2-20eb-4047-b592-48cb1564fd2a",
   "metadata": {},
   "outputs": [
    {
     "data": {
      "text/html": [
       "<div>\n",
       "<style scoped>\n",
       "    .dataframe tbody tr th:only-of-type {\n",
       "        vertical-align: middle;\n",
       "    }\n",
       "\n",
       "    .dataframe tbody tr th {\n",
       "        vertical-align: top;\n",
       "    }\n",
       "\n",
       "    .dataframe thead th {\n",
       "        text-align: right;\n",
       "    }\n",
       "</style>\n",
       "<table border=\"1\" class=\"dataframe\">\n",
       "  <thead>\n",
       "    <tr style=\"text-align: right;\">\n",
       "      <th></th>\n",
       "      <th>aa</th>\n",
       "      <th>aadv</th>\n",
       "      <th>aadvantage</th>\n",
       "      <th>aal</th>\n",
       "      <th>abandoned</th>\n",
       "      <th>abc</th>\n",
       "      <th>ability</th>\n",
       "      <th>able</th>\n",
       "      <th>aboard</th>\n",
       "      <th>abq</th>\n",
       "      <th>...</th>\n",
       "      <th>yummy</th>\n",
       "      <th>yup</th>\n",
       "      <th>yvonne</th>\n",
       "      <th>yvr</th>\n",
       "      <th>yyj</th>\n",
       "      <th>yyz</th>\n",
       "      <th>zero</th>\n",
       "      <th>zone</th>\n",
       "      <th>zoom</th>\n",
       "      <th>zurich</th>\n",
       "    </tr>\n",
       "  </thead>\n",
       "  <tbody>\n",
       "    <tr>\n",
       "      <th>0</th>\n",
       "      <td>0</td>\n",
       "      <td>0</td>\n",
       "      <td>0</td>\n",
       "      <td>0</td>\n",
       "      <td>0</td>\n",
       "      <td>0</td>\n",
       "      <td>0</td>\n",
       "      <td>0</td>\n",
       "      <td>0</td>\n",
       "      <td>0</td>\n",
       "      <td>...</td>\n",
       "      <td>0</td>\n",
       "      <td>0</td>\n",
       "      <td>0</td>\n",
       "      <td>0</td>\n",
       "      <td>0</td>\n",
       "      <td>0</td>\n",
       "      <td>0</td>\n",
       "      <td>0</td>\n",
       "      <td>0</td>\n",
       "      <td>0</td>\n",
       "    </tr>\n",
       "    <tr>\n",
       "      <th>1</th>\n",
       "      <td>0</td>\n",
       "      <td>0</td>\n",
       "      <td>0</td>\n",
       "      <td>0</td>\n",
       "      <td>0</td>\n",
       "      <td>0</td>\n",
       "      <td>0</td>\n",
       "      <td>0</td>\n",
       "      <td>0</td>\n",
       "      <td>0</td>\n",
       "      <td>...</td>\n",
       "      <td>0</td>\n",
       "      <td>0</td>\n",
       "      <td>0</td>\n",
       "      <td>0</td>\n",
       "      <td>0</td>\n",
       "      <td>0</td>\n",
       "      <td>0</td>\n",
       "      <td>0</td>\n",
       "      <td>0</td>\n",
       "      <td>0</td>\n",
       "    </tr>\n",
       "    <tr>\n",
       "      <th>2</th>\n",
       "      <td>0</td>\n",
       "      <td>0</td>\n",
       "      <td>0</td>\n",
       "      <td>0</td>\n",
       "      <td>0</td>\n",
       "      <td>0</td>\n",
       "      <td>0</td>\n",
       "      <td>0</td>\n",
       "      <td>0</td>\n",
       "      <td>0</td>\n",
       "      <td>...</td>\n",
       "      <td>0</td>\n",
       "      <td>0</td>\n",
       "      <td>0</td>\n",
       "      <td>0</td>\n",
       "      <td>0</td>\n",
       "      <td>0</td>\n",
       "      <td>0</td>\n",
       "      <td>0</td>\n",
       "      <td>0</td>\n",
       "      <td>0</td>\n",
       "    </tr>\n",
       "    <tr>\n",
       "      <th>3</th>\n",
       "      <td>0</td>\n",
       "      <td>0</td>\n",
       "      <td>0</td>\n",
       "      <td>0</td>\n",
       "      <td>0</td>\n",
       "      <td>0</td>\n",
       "      <td>0</td>\n",
       "      <td>0</td>\n",
       "      <td>0</td>\n",
       "      <td>0</td>\n",
       "      <td>...</td>\n",
       "      <td>0</td>\n",
       "      <td>0</td>\n",
       "      <td>0</td>\n",
       "      <td>0</td>\n",
       "      <td>0</td>\n",
       "      <td>0</td>\n",
       "      <td>0</td>\n",
       "      <td>0</td>\n",
       "      <td>0</td>\n",
       "      <td>0</td>\n",
       "    </tr>\n",
       "    <tr>\n",
       "      <th>4</th>\n",
       "      <td>0</td>\n",
       "      <td>0</td>\n",
       "      <td>0</td>\n",
       "      <td>0</td>\n",
       "      <td>0</td>\n",
       "      <td>0</td>\n",
       "      <td>0</td>\n",
       "      <td>0</td>\n",
       "      <td>0</td>\n",
       "      <td>0</td>\n",
       "      <td>...</td>\n",
       "      <td>0</td>\n",
       "      <td>0</td>\n",
       "      <td>0</td>\n",
       "      <td>0</td>\n",
       "      <td>0</td>\n",
       "      <td>0</td>\n",
       "      <td>0</td>\n",
       "      <td>0</td>\n",
       "      <td>0</td>\n",
       "      <td>0</td>\n",
       "    </tr>\n",
       "  </tbody>\n",
       "</table>\n",
       "<p>5 rows × 4471 columns</p>\n",
       "</div>"
      ],
      "text/plain": [
       "   aa  aadv  aadvantage  aal  abandoned  abc  ability  able  aboard  abq  ...  \\\n",
       "0   0     0           0    0          0    0        0     0       0    0  ...   \n",
       "1   0     0           0    0          0    0        0     0       0    0  ...   \n",
       "2   0     0           0    0          0    0        0     0       0    0  ...   \n",
       "3   0     0           0    0          0    0        0     0       0    0  ...   \n",
       "4   0     0           0    0          0    0        0     0       0    0  ...   \n",
       "\n",
       "   yummy  yup  yvonne  yvr  yyj  yyz  zero  zone  zoom  zurich  \n",
       "0      0    0       0    0    0    0     0     0     0       0  \n",
       "1      0    0       0    0    0    0     0     0     0       0  \n",
       "2      0    0       0    0    0    0     0     0     0       0  \n",
       "3      0    0       0    0    0    0     0     0     0       0  \n",
       "4      0    0       0    0    0    0     0     0     0       0  \n",
       "\n",
       "[5 rows x 4471 columns]"
      ]
     },
     "execution_count": 58,
     "metadata": {},
     "output_type": "execute_result"
    }
   ],
   "source": [
    "second_dtm.head()"
   ]
  },
  {
   "cell_type": "markdown",
   "id": "998fe2c3-ec90-4027-8c7f-417327a33a27",
   "metadata": {},
   "source": [
    "La lista de tokens más frecuentes ahora incluye palabras que tienen más sentido para nosotros, como \"cancelled\" y \"service\"."
   ]
  },
  {
   "cell_type": "code",
   "execution_count": 59,
   "id": "ffa7bf4e-640b-49bc-b64b-721140f67f76",
   "metadata": {},
   "outputs": [
    {
     "data": {
      "text/plain": [
       "digit        6927\n",
       "flight       3320\n",
       "hashtag      2633\n",
       "cancelled     956\n",
       "thanks        921\n",
       "service       910\n",
       "just          801\n",
       "customer      726\n",
       "time          695\n",
       "help          687\n",
       "dtype: int64"
      ]
     },
     "execution_count": 59,
     "metadata": {},
     "output_type": "execute_result"
    }
   ],
   "source": [
    "second_dtm.sum().sort_values(ascending=False).head(10)"
   ]
  },
  {
   "cell_type": "markdown",
   "id": "3e8b5145-d505-4e36-9a39-a40d25d8ec6f",
   "metadata": {},
   "source": [
    "## 🥊 Desafío 2: Lematizar el Texto de Entrada\n",
    "\n",
    "Recuerda que en la Parte 1 presentamos cómo usar `spaCy` para realizar lematización, es decir, \"recuperar\" la forma base de una palabra. Este proceso ayuda a reducir el tamaño del vocabulario manteniendo al mínimo las variaciones de una palabra—un vocabulario más pequeño puede mejorar el rendimiento del modelo en la clasificación de sentimientos.\n",
    "\n",
    "Ahora implementaremos la lematización en nuestros datos de tweets y usaremos el texto lematizado para crear una tercera DTM.\n",
    "\n",
    "Completa la función `lemmatize_text`. Esta función recibe un texto como entrada y devuelve los lemas de todos los tokens.\n",
    "\n",
    "Aquí tienes algunas pistas para ayudarte en este desafío:\n",
    "\n",
    "- Paso 1: inicializa una lista para almacenar los lemas  \n",
    "- Paso 2: aplica la canalización `nlp` al texto de entrada  \n",
    "- Paso 3: itera sobre los tokens en el texto procesado y recupera el lema de cada token  \n",
    "    - PISTA: la lematización es una de las anotaciones lingüísticas que la canalización `nlp` realiza automáticamente. Podemos usar `token.lemma_` para acceder a esa anotación.\n"
   ]
  },
  {
   "cell_type": "code",
   "execution_count": null,
   "id": "70a908f0-f0c6-4ba0-92be-447004f298f9",
   "metadata": {},
   "outputs": [],
   "source": []
  }
 ],
 "metadata": {
  "kernelspec": {
   "display_name": "Python 3 (ipykernel)",
   "language": "python",
   "name": "python3"
  },
  "language_info": {
   "codemirror_mode": {
    "name": "ipython",
    "version": 3
   },
   "file_extension": ".py",
   "mimetype": "text/x-python",
   "name": "python",
   "nbconvert_exporter": "python",
   "pygments_lexer": "ipython3",
   "version": "3.10.16"
  }
 },
 "nbformat": 4,
 "nbformat_minor": 5
}
